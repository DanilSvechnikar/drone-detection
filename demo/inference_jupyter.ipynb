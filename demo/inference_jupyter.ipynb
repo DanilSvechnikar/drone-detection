{
 "cells": [
  {
   "cell_type": "code",
   "execution_count": null,
   "id": "0",
   "metadata": {},
   "outputs": [],
   "source": [
    "%load_ext autoreload\n",
    "%autoreload 2\n",
    "\n",
    "import torch.cuda\n",
    "\n",
    "from ultralytics import YOLO\n",
    "from omegaconf import OmegaConf\n",
    "\n",
    "from drone_detection.config import (\n",
    "    DEMO_DATA_DIR,\n",
    "    MODELS_DIR,\n",
    "    CONFIG_DIR,\n",
    ")\n",
    "from drone_detection.models_utils import predict_with_model"
   ]
  },
  {
   "cell_type": "code",
   "execution_count": null,
   "id": "1",
   "metadata": {},
   "outputs": [],
   "source": [
    "config_path = CONFIG_DIR / \"inference.yaml\"\n",
    "cfg = OmegaConf.load(config_path)"
   ]
  },
  {
   "cell_type": "code",
   "execution_count": null,
   "id": "2",
   "metadata": {},
   "outputs": [],
   "source": [
    "# Data should be in the path ./drone-detection/data/demo_data/\n",
    "data_path = DEMO_DATA_DIR / cfg.name_data\n",
    "\n",
    "# Model show be in the path ./drone-detection/models/\n",
    "model_path = MODELS_DIR / cfg.name_model\n",
    "\n",
    "if cfg.params_predict.device != \"cpu\":\n",
    "    device = \"cuda\" if torch.cuda.is_available() else \"cpu\"\n",
    "    OmegaConf.update(cfg, \"params_predict.device\", device)"
   ]
  },
  {
   "cell_type": "code",
   "execution_count": null,
   "id": "3",
   "metadata": {},
   "outputs": [],
   "source": [
    "model = YOLO(model_path)"
   ]
  },
  {
   "cell_type": "code",
   "execution_count": null,
   "id": "4",
   "metadata": {},
   "outputs": [],
   "source": [
    "for bbox in predict_with_model(\n",
    "    model=model,\n",
    "    path_file=data_path,\n",
    "    resize_frame=cfg.resize_frame,\n",
    "    draw_best_box=cfg.draw_best_box,\n",
    "    params_tracking=cfg.params_predict,\n",
    "    enable_camera=cfg.camera,\n",
    "):\n",
    "    # print(bbox)\n",
    "    pass"
   ]
  },
  {
   "cell_type": "code",
   "execution_count": null,
   "id": "5",
   "metadata": {},
   "outputs": [],
   "source": []
  }
 ],
 "metadata": {
  "kernelspec": {
   "display_name": "Python 3",
   "language": "python",
   "name": "python3"
  },
  "language_info": {
   "codemirror_mode": {
    "name": "ipython",
    "version": 2
   },
   "file_extension": ".py",
   "mimetype": "text/x-python",
   "name": "python",
   "nbconvert_exporter": "python",
   "pygments_lexer": "ipython2",
   "version": "2.7.6"
  }
 },
 "nbformat": 4,
 "nbformat_minor": 5
}
