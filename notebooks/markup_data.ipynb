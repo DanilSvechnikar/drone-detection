{
 "cells": [
  {
   "cell_type": "code",
   "execution_count": null,
   "id": "0",
   "metadata": {},
   "outputs": [],
   "source": [
    "%load_ext autoreload\n",
    "%autoreload 2\n",
    "\n",
    "from ultralytics import YOLO\n",
    "from tqdm import tqdm\n",
    "\n",
    "from drone_detection.config import PROCESSED_DATA_DIR, MODELS_DIR\n",
    "from drone_detection.bbox_utils import save_bboxes"
   ]
  },
  {
   "cell_type": "code",
   "execution_count": null,
   "id": "1",
   "metadata": {},
   "outputs": [],
   "source": [
    "images_dir = PROCESSED_DATA_DIR / \"new-data\" / \"images\"\n",
    "labels_dir = PROCESSED_DATA_DIR / \"new-data\" / \"labels\""
   ]
  },
  {
   "cell_type": "code",
   "execution_count": null,
   "id": "2",
   "metadata": {},
   "outputs": [],
   "source": [
    "model_path = MODELS_DIR / \"yolov10n_best.pt\"\n",
    "model = YOLO(model_path)"
   ]
  },
  {
   "cell_type": "markdown",
   "id": "3",
   "metadata": {},
   "source": [
    "#### Markup the data and save to txt"
   ]
  },
  {
   "cell_type": "code",
   "execution_count": null,
   "id": "4",
   "metadata": {},
   "outputs": [],
   "source": [
    "lst_images_dir = list(images_dir.glob(\"*.jpg\"))\n",
    "\n",
    "for image_path in tqdm(lst_images_dir, desc=\"Images\", total=len(lst_images_dir)):\n",
    "    results = model.predict(image_path, device=\"cuda\", save=False, verbose=False)\n",
    "    \n",
    "    bbox = results[0].boxes.xywhn.cpu().numpy()\n",
    "    \n",
    "    label_name = f\"{image_path.stem}.txt\"\n",
    "    label_path = labels_dir / label_name\n",
    "\n",
    "    save_bboxes(label_path, bbox, [0])"
   ]
  },
  {
   "cell_type": "code",
   "execution_count": null,
   "id": "5",
   "metadata": {},
   "outputs": [],
   "source": []
  }
 ],
 "metadata": {
  "kernelspec": {
   "display_name": "Python 3",
   "language": "python",
   "name": "python3"
  },
  "language_info": {
   "codemirror_mode": {
    "name": "ipython",
    "version": 2
   },
   "file_extension": ".py",
   "mimetype": "text/x-python",
   "name": "python",
   "nbconvert_exporter": "python",
   "pygments_lexer": "ipython2",
   "version": "2.7.6"
  }
 },
 "nbformat": 4,
 "nbformat_minor": 5
}
