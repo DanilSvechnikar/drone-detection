{
 "cells": [
  {
   "cell_type": "code",
   "execution_count": null,
   "id": "0",
   "metadata": {},
   "outputs": [],
   "source": [
    "# %env CLEARML_WEB_HOST=https://app.clear.ml/\n",
    "# %env CLEARML_API_HOST=https://api.clear.ml\n",
    "# %env CLEARML_FILES_HOST=https://files.clear.ml\n",
    "# %env CLEARML_API_ACCESS_KEY=WVSD8BHXJDZ3T1UGYQ00BRQYWDWWLP\n",
    "# %env CLEARML_API_SECRET_KEY=75xA3wdyJgUm8eA2dmXUaGM7NqoIbo2xyqz9Rt-ez8oROvyF8vG9oSP47xbliTpm160"
   ]
  },
  {
   "cell_type": "code",
   "execution_count": null,
   "id": "1",
   "metadata": {},
   "outputs": [],
   "source": [
    "%load_ext autoreload\n",
    "%autoreload 2\n",
    "\n",
    "import torch.cuda\n",
    "\n",
    "from clearml import Task\n",
    "from ultralytics import YOLO\n",
    "\n",
    "from drone_detection.config import (\n",
    "    PROJ_ROOT, PROCESSED_DATA_DIR,\n",
    ")"
   ]
  },
  {
   "cell_type": "code",
   "execution_count": null,
   "id": "2",
   "metadata": {},
   "outputs": [],
   "source": [
    "model_variant = \"yolov10n.pt\"\n",
    "dataset_name = \"wout_augment\""
   ]
  },
  {
   "cell_type": "code",
   "execution_count": null,
   "id": "3",
   "metadata": {},
   "outputs": [],
   "source": [
    "task = Task.init(\n",
    "    project_name=\"drone-detection\",\n",
    "    task_name=\"train_yolov10n\",\n",
    "    tags=[dataset_name],\n",
    ")"
   ]
  },
  {
   "cell_type": "code",
   "execution_count": null,
   "id": "4",
   "metadata": {},
   "outputs": [],
   "source": [
    "checkpoint_fpath = PROJ_ROOT / \"models\" / model_variant\n",
    "config_data_fpath = PROCESSED_DATA_DIR / dataset_name / \"data.yaml\""
   ]
  },
  {
   "cell_type": "code",
   "execution_count": null,
   "id": "5",
   "metadata": {},
   "outputs": [],
   "source": [
    "model = YOLO(checkpoint_fpath)"
   ]
  },
  {
   "cell_type": "code",
   "execution_count": null,
   "id": "6",
   "metadata": {},
   "outputs": [],
   "source": [
    "train_params = {\n",
    "    \"data\": config_data_fpath,\n",
    "    \"device\": \"cuda\" if torch.cuda.is_available() else \"cpu\",\n",
    "    \"save_dir\": PROJ_ROOT / \"runs\",\n",
    "    \"epochs\": 50,\n",
    "    \"batch\": 16,\n",
    "    \"amp\": False,\n",
    "    \"patience\": 4,\n",
    "    \"workers\": 0,\n",
    "    \"imgsz\": 640,\n",
    "    \"val\": True,\n",
    "    \"seed\": 0,\n",
    "    \"deterministic\": True,\n",
    "    \"pretrained\": True,\n",
    "}"
   ]
  },
  {
   "cell_type": "code",
   "execution_count": null,
   "id": "7",
   "metadata": {},
   "outputs": [],
   "source": [
    "torch.cuda.empty_cache()\n",
    "\n",
    "model.train(**train_params)"
   ]
  },
  {
   "cell_type": "code",
   "execution_count": null,
   "id": "8",
   "metadata": {},
   "outputs": [],
   "source": [
    "task.close()"
   ]
  },
  {
   "cell_type": "code",
   "execution_count": null,
   "id": "9",
   "metadata": {},
   "outputs": [],
   "source": []
  }
 ],
 "metadata": {
  "kernelspec": {
   "display_name": "Python 3",
   "language": "python",
   "name": "python3"
  },
  "language_info": {
   "codemirror_mode": {
    "name": "ipython",
    "version": 2
   },
   "file_extension": ".py",
   "mimetype": "text/x-python",
   "name": "python",
   "nbconvert_exporter": "python",
   "pygments_lexer": "ipython2",
   "version": "2.7.6"
  }
 },
 "nbformat": 4,
 "nbformat_minor": 5
}
