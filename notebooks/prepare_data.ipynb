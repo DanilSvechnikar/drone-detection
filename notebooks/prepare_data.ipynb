{
 "cells": [
  {
   "cell_type": "code",
   "execution_count": null,
   "id": "0",
   "metadata": {},
   "outputs": [],
   "source": [
    "%load_ext autoreload\n",
    "%autoreload 2\n",
    "\n",
    "import os\n",
    "import random\n",
    "import shutil\n",
    "\n",
    "from pathlib import Path\n",
    "\n",
    "from drone_detection.config import (\n",
    "    RAW_DATA_DIR, PROCESSED_DATA_DIR,\n",
    ")"
   ]
  },
  {
   "cell_type": "markdown",
   "id": "1",
   "metadata": {},
   "source": [
    "### Check data"
   ]
  },
  {
   "cell_type": "code",
   "execution_count": null,
   "id": "2",
   "metadata": {},
   "outputs": [],
   "source": [
    "dataset_1 = RAW_DATA_DIR / \"dataset_1\"\n",
    "jpeg_imgs = list(dataset_1.glob(\"*.JPEG\"))"
   ]
  },
  {
   "cell_type": "code",
   "execution_count": null,
   "id": "3",
   "metadata": {},
   "outputs": [],
   "source": [
    "print(len(jpeg_imgs))\n",
    "jpeg_imgs[:2]"
   ]
  },
  {
   "cell_type": "code",
   "execution_count": null,
   "id": "4",
   "metadata": {},
   "outputs": [],
   "source": [
    "new_paths = [Path(str(item).replace(\"JPEG\", \"jpg\")) for item in jpeg_imgs]\n",
    "new_paths[:2]"
   ]
  },
  {
   "cell_type": "code",
   "execution_count": null,
   "id": "5",
   "metadata": {},
   "outputs": [],
   "source": [
    "# Rename extension in directory\n",
    "for (old_path, new_path) in zip(jpeg_imgs, new_paths):\n",
    "    os.rename(old_path, new_path)"
   ]
  },
  {
   "cell_type": "code",
   "execution_count": null,
   "id": "6",
   "metadata": {},
   "outputs": [],
   "source": [
    "# Check images and labels\n",
    "need_to_delete = []\n",
    "images = dataset_1 / \"images\"\n",
    "labels = dataset_1 / \"labels\"\n",
    "\n",
    "imgs_lst = list(images.glob(\"*\"))\n",
    "labels_lst = list(labels.glob(\"*\"))\n",
    "\n",
    "len(imgs_lst), len(labels_lst)"
   ]
  },
  {
   "cell_type": "code",
   "execution_count": null,
   "id": "7",
   "metadata": {},
   "outputs": [],
   "source": [
    "for img_path in imgs_lst:\n",
    "    img_name_stem = img_path.stem\n",
    "    corresponding_label = labels / f\"{img_name_stem}.txt\"\n",
    "    \n",
    "    if not corresponding_label.exists():\n",
    "        print(f\"Label for {img_path.name} is missing!\")"
   ]
  },
  {
   "cell_type": "markdown",
   "id": "8",
   "metadata": {},
   "source": [
    "### Train Valid Test splitting"
   ]
  },
  {
   "cell_type": "code",
   "execution_count": null,
   "id": "9",
   "metadata": {},
   "outputs": [],
   "source": [
    "# Random shuffle\n",
    "combined = list(zip(imgs_lst, labels_lst))\n",
    "random.shuffle(combined)\n",
    "imgs_lst_shuffled, labels_lst_shuffled = zip(*combined)"
   ]
  },
  {
   "cell_type": "code",
   "execution_count": null,
   "id": "10",
   "metadata": {},
   "outputs": [],
   "source": [
    "train_size = 0.8\n",
    "test_size = 0.1\n",
    "val_size = 0.1\n",
    "\n",
    "total_len = len(imgs_lst_shuffled)\n",
    "train_end = int(train_size * total_len)\n",
    "val_end = train_end + int(val_size * total_len)"
   ]
  },
  {
   "cell_type": "code",
   "execution_count": null,
   "id": "11",
   "metadata": {},
   "outputs": [],
   "source": [
    "# Splitting\n",
    "imgs_train = imgs_lst_shuffled[:train_end]\n",
    "labels_train = labels_lst_shuffled[:train_end]\n",
    "\n",
    "imgs_val = imgs_lst_shuffled[train_end:val_end]\n",
    "labels_val = labels_lst_shuffled[train_end:val_end]\n",
    "\n",
    "imgs_test = imgs_lst_shuffled[val_end:]\n",
    "labels_test = labels_lst_shuffled[val_end:]"
   ]
  },
  {
   "cell_type": "code",
   "execution_count": null,
   "id": "12",
   "metadata": {},
   "outputs": [],
   "source": [
    "len(imgs_train), len(imgs_val), len(imgs_test)"
   ]
  },
  {
   "cell_type": "code",
   "execution_count": null,
   "id": "13",
   "metadata": {},
   "outputs": [],
   "source": [
    "processed_train = PROCESSED_DATA_DIR / \"train\"\n",
    "processed_val = PROCESSED_DATA_DIR / \"valid\"\n",
    "processed_test = PROCESSED_DATA_DIR / \"test\""
   ]
  },
  {
   "cell_type": "code",
   "execution_count": null,
   "id": "14",
   "metadata": {},
   "outputs": [],
   "source": [
    "# Copy splitted data into folders\n",
    "# Train\n",
    "for img_path, label_path in zip(imgs_train, labels_train):\n",
    "    new_img_path = processed_train / \"images\" / img_path.name\n",
    "    new_label_path = processed_train / \"labels\" / label_path.name\n",
    "    shutil.copy(img_path, new_img_path)\n",
    "    shutil.copy(label_path, new_label_path)"
   ]
  },
  {
   "cell_type": "code",
   "execution_count": null,
   "id": "15",
   "metadata": {},
   "outputs": [],
   "source": [
    "# Valid\n",
    "for img_path, label_path in zip(imgs_val, labels_val):\n",
    "    new_img_path = processed_val / \"images\" / img_path.name\n",
    "    new_label_path = processed_val / \"labels\" / label_path.name\n",
    "    shutil.copy(img_path, new_img_path)\n",
    "    shutil.copy(label_path, new_label_path)"
   ]
  },
  {
   "cell_type": "code",
   "execution_count": null,
   "id": "16",
   "metadata": {},
   "outputs": [],
   "source": [
    "# Test\n",
    "for img_path, label_path in zip(imgs_test, labels_test):\n",
    "    new_img_path = processed_test / \"images\" / img_path.name\n",
    "    new_label_path = processed_test / \"labels\" / label_path.name\n",
    "    shutil.copy(img_path, new_img_path)\n",
    "    shutil.copy(label_path, new_label_path)"
   ]
  },
  {
   "cell_type": "code",
   "execution_count": null,
   "id": "17",
   "metadata": {},
   "outputs": [],
   "source": []
  }
 ],
 "metadata": {
  "kernelspec": {
   "display_name": "Python 3",
   "language": "python",
   "name": "python3"
  },
  "language_info": {
   "codemirror_mode": {
    "name": "ipython",
    "version": 2
   },
   "file_extension": ".py",
   "mimetype": "text/x-python",
   "name": "python",
   "nbconvert_exporter": "python",
   "pygments_lexer": "ipython2",
   "version": "2.7.6"
  }
 },
 "nbformat": 4,
 "nbformat_minor": 5
}
