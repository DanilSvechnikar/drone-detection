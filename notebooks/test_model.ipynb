{
 "cells": [
  {
   "cell_type": "code",
   "execution_count": null,
   "id": "0",
   "metadata": {},
   "outputs": [],
   "source": [
    "%load_ext autoreload\n",
    "%autoreload 2\n",
    "\n",
    "import torch.cuda\n",
    "from ultralytics import YOLO\n",
    "from csv import DictWriter\n",
    "\n",
    "from drone_detection import (\n",
    "    PROCESSED_DATA_DIR, MODELS_DIR, LOGS_DIR,\n",
    ")"
   ]
  },
  {
   "cell_type": "code",
   "execution_count": null,
   "id": "1",
   "metadata": {},
   "outputs": [],
   "source": [
    "checkpoint_model = MODELS_DIR / \"best.pt\"\n",
    "best_model = YOLO(checkpoint_model)"
   ]
  },
  {
   "cell_type": "code",
   "execution_count": null,
   "id": "2",
   "metadata": {},
   "outputs": [],
   "source": [
    "test_dir = PROCESSED_DATA_DIR / \"wout_augment\"\n",
    "config_data_fpath = test_dir / \"data.yaml\"\n",
    "\n",
    "validate_params = {\n",
    "    \"data\": config_data_fpath,\n",
    "    \"imgsz\": 640,\n",
    "    \"device\": \"cuda\" if torch.cuda.is_available() else \"cpu\",\n",
    "    \"split\": \"test\",\n",
    "    \"batch\": 32,\n",
    "    # \"iou\": 0.6,\n",
    "    # \"conf\": 0.001,\n",
    "}"
   ]
  },
  {
   "cell_type": "code",
   "execution_count": null,
   "id": "3",
   "metadata": {},
   "outputs": [],
   "source": [
    "torch.cuda.empty_cache()\n",
    "\n",
    "results = best_model.val(**validate_params)"
   ]
  },
  {
   "cell_type": "code",
   "execution_count": null,
   "id": "4",
   "metadata": {},
   "outputs": [],
   "source": [
    "metrics_csv_path = LOGS_DIR / \"best.csv\"\n",
    "\n",
    "with open(metrics_csv_path, \"w\") as csvfile: \n",
    "    writer = DictWriter(csvfile, fieldnames=results.results_dict) \n",
    "    writer.writeheader() \n",
    "    writer.writerows([results.results_dict]) "
   ]
  },
  {
   "cell_type": "code",
   "execution_count": null,
   "id": "5",
   "metadata": {},
   "outputs": [],
   "source": []
  }
 ],
 "metadata": {
  "kernelspec": {
   "display_name": "Python 3",
   "language": "python",
   "name": "python3"
  },
  "language_info": {
   "codemirror_mode": {
    "name": "ipython",
    "version": 2
   },
   "file_extension": ".py",
   "mimetype": "text/x-python",
   "name": "python",
   "nbconvert_exporter": "python",
   "pygments_lexer": "ipython2",
   "version": "2.7.6"
  }
 },
 "nbformat": 4,
 "nbformat_minor": 5
}
