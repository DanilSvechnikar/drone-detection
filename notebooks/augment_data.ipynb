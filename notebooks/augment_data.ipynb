{
 "cells": [
  {
   "cell_type": "code",
   "execution_count": null,
   "id": "0",
   "metadata": {},
   "outputs": [],
   "source": [
    "%load_ext autoreload\n",
    "%autoreload 2\n",
    "\n",
    "import albumentations as A\n",
    "import cv2\n",
    "import random\n",
    "\n",
    "from tqdm import tqdm\n",
    "from pathlib import Path\n",
    "\n",
    "from drone_detection.augment_tools import read_bboxes, save_bboxes"
   ]
  },
  {
   "cell_type": "code",
   "execution_count": null,
   "id": "1",
   "metadata": {},
   "outputs": [],
   "source": [
    "# NOTE: Paths from another project!\n",
    "\n",
    "root_path = Path().resolve()\n",
    "\n",
    "# Origin data\n",
    "data_path = root_path / \"origin_wout_augment\"\n",
    "\n",
    "images_dir = data_path / \"images\"\n",
    "labels_dir = data_path / \"labels\"\n",
    "\n",
    "# Augmented data\n",
    "data_augment_path = root_path / \"origin_with_augment\"\n",
    "aug_images_dir = data_augment_path / \"images\"\n",
    "aug_labels_dir = data_augment_path / \"labels\""
   ]
  },
  {
   "cell_type": "code",
   "execution_count": null,
   "id": "2",
   "metadata": {},
   "outputs": [],
   "source": [
    "first_augmentations = [\n",
    "    A.HorizontalFlip(p=0.9),\n",
    "    A.RandomRotate90(p=0.9),\n",
    "    A.Rotate(p=0.9),\n",
    "    A.Affine(p=0.9),\n",
    "]\n",
    "\n",
    "second_augmentations = [\n",
    "    A.RandomBrightnessContrast(p=0.9),\n",
    "    A.GaussNoise(p=0.9),\n",
    "    A.HueSaturationValue(p=0.9),\n",
    "    A.ToGray(p=0.4),\n",
    "    A.RandomRain(blur_value=2, p=0.9),\n",
    "    A.RGBShift(p=0.9),\n",
    "]"
   ]
  },
  {
   "cell_type": "code",
   "execution_count": null,
   "id": "3",
   "metadata": {},
   "outputs": [],
   "source": [
    "augment_iter = 4\n",
    "lst_images_dir = list(images_dir.glob(\"*.jpg\"))\n",
    "\n",
    "for aug_iter in range(augment_iter):\n",
    "    for image_filename in tqdm(lst_images_dir, desc=\"Images\", total=len(lst_images_dir)):\n",
    "        label_name = str(image_filename.stem) + \".txt\"\n",
    "        label_path = labels_dir / label_name\n",
    "\n",
    "        image = cv2.imread(image_filename)\n",
    "        bboxes, class_labels = read_bboxes(label_path)\n",
    "\n",
    "        rnd_1_aug = random.choice(first_augmentations)\n",
    "        rnd_2_aug, rnd_3_aug = random.sample(second_augmentations, 2)\n",
    "\n",
    "        transform = A.Compose(\n",
    "            transforms=[rnd_1_aug, rnd_2_aug, rnd_3_aug],\n",
    "            bbox_params=A.BboxParams(format=\"yolo\", label_fields=[\"class_labels\"]),\n",
    "        )\n",
    "\n",
    "        transformed = transform(image=image, bboxes=bboxes, class_labels=class_labels)\n",
    "        transformed_image = transformed[\"image\"]\n",
    "        transformed_bboxes = transformed[\"bboxes\"]\n",
    "        transformed_cls_labels = transformed[\"class_labels\"]\n",
    "                \n",
    "        aug_img_filename = f\"{image_filename.stem}_aug_{aug_iter}_iter.jpg\"\n",
    "        aug_img_path = aug_images_dir / aug_img_filename\n",
    "        \n",
    "        aug_label_filename = f\"{image_filename.stem}_aug_{aug_iter}_iter.txt\"\n",
    "        aug_label_path = aug_labels_dir / aug_label_filename\n",
    "\n",
    "        cv2.imwrite(aug_img_path, transformed_image)\n",
    "        save_bboxes(aug_label_path, transformed_bboxes, transformed_cls_labels)"
   ]
  },
  {
   "cell_type": "code",
   "execution_count": null,
   "id": "4",
   "metadata": {},
   "outputs": [],
   "source": []
  }
 ],
 "metadata": {
  "kernelspec": {
   "display_name": "Python 3",
   "language": "python",
   "name": "python3"
  },
  "language_info": {
   "codemirror_mode": {
    "name": "ipython",
    "version": 2
   },
   "file_extension": ".py",
   "mimetype": "text/x-python",
   "name": "python",
   "nbconvert_exporter": "python",
   "pygments_lexer": "ipython2",
   "version": "2.7.6"
  }
 },
 "nbformat": 4,
 "nbformat_minor": 5
}
